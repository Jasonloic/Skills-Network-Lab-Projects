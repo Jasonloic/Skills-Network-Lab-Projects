{
 "cells": [
  {
   "cell_type": "markdown",
   "id": "7eeade80-724e-49c9-b5d9-eb596fdb5edb",
   "metadata": {},
   "source": [
    "#  Data Science Tools and Ecosystem"
   ]
  },
  {
   "cell_type": "markdown",
   "id": "a47e52fd-edce-43d2-b274-f4d81560c6e7",
   "metadata": {},
   "source": [
    "In this notebook, Data Science Tools and Ecosystem are summarized"
   ]
  },
  {
   "cell_type": "markdown",
   "id": "b67c4503-a549-4396-8fa7-9462f3c017f7",
   "metadata": {},
   "source": [
    "**Objectives**\n",
    "\n",
    "* Create Lists\n",
    "* Create Table\n",
    "* Evaluate Arithmetics expressions in Python\n",
    "* Work with Markdown\n",
    "* Share Notebook on Github"
   ]
  },
  {
   "cell_type": "markdown",
   "id": "e913dd7e-5c1b-49e0-9930-8f1fcb162a8a",
   "metadata": {},
   "source": [
    "Some of the popular languages that Data Scientists use are:\n",
    "\n",
    "1. Python\n",
    "\n",
    "2. R\n",
    "\n",
    "3. Scala\n",
    "\n",
    "4. Julia\n",
    "\n",
    "5. SQL"
   ]
  },
  {
   "cell_type": "markdown",
   "id": "51016371-557a-4e14-9322-e5218c0782a2",
   "metadata": {},
   "source": [
    "Some of the commonly used libraries used by Data Scientists include:\n",
    "\n",
    "1. Pandas\n",
    "\n",
    "2. Matplotlib\n",
    "\n",
    "3. Seaborn\n",
    "\n",
    "4. Scipy\n",
    "\n",
    "5. Scikit-learn\n",
    "\n",
    "6. Tensorflow\n",
    "\n",
    "7. Keras\n",
    "\n",
    "8. Dplyr\n",
    "\n",
    "9. Ggplot\n",
    "\n",
    "10. Caret"
   ]
  },
  {
   "cell_type": "markdown",
   "id": "733f132d-c9b4-462b-93d4-7e8fe8f0da16",
   "metadata": {},
   "source": [
    "| Data Science Tools   |\n",
    "|----------------------|\n",
    "| Jupyter              |\n",
    "| Jupyter Lab          |\n",
    "| RStudio              |"
   ]
  },
  {
   "cell_type": "markdown",
   "id": "0de659d7-1b73-42f5-81a4-c7522761cb70",
   "metadata": {},
   "source": [
    "### Below are a few examples of evaluating arithmetic expressions in Python"
   ]
  },
  {
   "cell_type": "code",
   "execution_count": 5,
   "id": "17e8c820-0cfa-41a6-8ff3-cd13c79697ac",
   "metadata": {},
   "outputs": [
    {
     "data": {
      "text/plain": [
       "17"
      ]
     },
     "execution_count": 5,
     "metadata": {},
     "output_type": "execute_result"
    }
   ],
   "source": [
    "# This a simple arithmetic expression to multiply then add integers\n",
    "(3*4)+5"
   ]
  },
  {
   "cell_type": "code",
   "execution_count": 4,
   "id": "dd2f04b7-b47a-4beb-86e4-dcfdac0c2df2",
   "metadata": {},
   "outputs": [
    {
     "data": {
      "text/plain": [
       "3.3333333333333335"
      ]
     },
     "execution_count": 4,
     "metadata": {},
     "output_type": "execute_result"
    }
   ],
   "source": [
    "# This will convert 200 minutes to hours by diving by 60\n",
    "200/60"
   ]
  },
  {
   "cell_type": "markdown",
   "id": "aeee5f8d-411e-49a8-b001-e3b2fe224e69",
   "metadata": {},
   "source": [
    "## Author:\n",
    " Bekombo Ntone Louis Jason Loïc"
   ]
  }
 ],
 "metadata": {
  "kernelspec": {
   "display_name": "Python 3 (ipykernel)",
   "language": "python",
   "name": "python3"
  },
  "language_info": {
   "codemirror_mode": {
    "name": "ipython",
    "version": 3
   },
   "file_extension": ".py",
   "mimetype": "text/x-python",
   "name": "python",
   "nbconvert_exporter": "python",
   "pygments_lexer": "ipython3",
   "version": "3.12.8"
  }
 },
 "nbformat": 4,
 "nbformat_minor": 5
}
